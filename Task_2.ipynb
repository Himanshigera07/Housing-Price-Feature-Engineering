{
  "cells": [
    {
      "cell_type": "code",
      "execution_count": null,
      "metadata": {
        "id": "Vo7KA0EbVyv9"
      },
      "outputs": [],
      "source": [
        "import pandas as pd\n",
        "import numpy as np\n",
        "from sklearn.impute import SimpleImputer\n",
        "from sklearn.preprocessing import OneHotEncoder, MinMaxScaler\n"
      ]
    },
    {
      "cell_type": "code",
      "execution_count": null,
      "metadata": {
        "id": "yMWT-YDsX9g_"
      },
      "outputs": [],
      "source": [
        "# Load the dataset\n",
        "df = pd.read_csv(\"housing_prices.csv\")"
      ]
    },
    {
      "cell_type": "code",
      "execution_count": null,
      "metadata": {
        "id": "oLNE4l1aYDoN"
      },
      "outputs": [],
      "source": [
        "# Handle missing values\n",
        "num_imputer = SimpleImputer(strategy=\"median\")\n",
        "df[[\"rooms\", \"bathrooms\", \"price\"]] = num_imputer.fit_transform(df[[\"rooms\", \"bathrooms\", \"price\"]])"
      ]
    },
    {
      "cell_type": "code",
      "execution_count": null,
      "metadata": {
        "id": "Mw-cXWKwYIZu"
      },
      "outputs": [],
      "source": [
        "# Encode categorical features\n",
        "encoder = OneHotEncoder(handle_unknown=\"ignore\", sparse_output=False)\n",
        "encoded_categories = encoder.fit_transform(df[[\"location\"]])\n",
        "encoded_df = pd.DataFrame(encoded_categories, columns=encoder.get_feature_names_out([\"location\"]))\n",
        "df = pd.concat([df.drop(columns=[\"location\"]), encoded_df], axis=1)"
      ]
    },
    {
      "cell_type": "code",
      "execution_count": null,
      "metadata": {
        "id": "06kZKlQPYK-a"
      },
      "outputs": [],
      "source": [
        "# Normalize numerical features using MinMaxScaler\n",
        "scaler = MinMaxScaler(feature_range=(0, 100))\n",
        "numerical_features = [\"area\", \"rooms\", \"bathrooms\", \"price\"]\n",
        "df[numerical_features] = scaler.fit_transform(df[numerical_features])\n"
      ]
    },
    {
      "cell_type": "code",
      "execution_count": null,
      "metadata": {
        "id": "4-ALF9F5YQxB"
      },
      "outputs": [],
      "source": [
        "# Feature Engineering: Creating new features\n",
        "df[\"price_per_sqft\"] = (df[\"price\"] / df[\"area\"]).fillna(0).replace([np.inf, -np.inf], 0)  # Handle division by zero\n",
        "df[\"total_rooms\"] = df[\"rooms\"] + df[\"bathrooms\"]"
      ]
    },
    {
      "cell_type": "code",
      "execution_count": null,
      "metadata": {
        "id": "Ep3I03P0YVWc"
      },
      "outputs": [],
      "source": [
        "# Replace NaN and infinite values before converting to integer\n",
        "df = df.fillna(0).replace([np.inf, -np.inf], 0)"
      ]
    },
    {
      "cell_type": "code",
      "execution_count": null,
      "metadata": {
        "id": "oeg0OLmdYaYq"
      },
      "outputs": [],
      "source": [
        "# Convert to integer values for better readability\n",
        "df = df.round(0).astype(int)"
      ]
    },
    {
      "cell_type": "code",
      "execution_count": null,
      "metadata": {
        "id": "KZBbyRCfYj8_"
      },
      "outputs": [],
      "source": [
        "# Save the processed dataset\n",
        "df.to_csv(\"processed_housing_prices.csv\", index=False)"
      ]
    },
    {
      "cell_type": "code",
      "execution_count": null,
      "metadata": {
        "colab": {
          "base_uri": "https://localhost:8080/"
        },
        "id": "UKEzYYLRYnud",
        "outputId": "ee7bdd06-367c-473d-f7f6-94f9efa9f3a9"
      },
      "outputs": [
        {
          "name": "stdout",
          "output_type": "stream",
          "text": [
            "   area  rooms  bathrooms  price  location_Downtown  location_Rural  \\\n",
            "0    37     50         50     46                  0               1   \n",
            "1    88     50         50     30                  1               0   \n",
            "2    63      0          0     23                  0               1   \n",
            "3    68     75        100     13                  0               1   \n",
            "4    89      0        100     46                  1               0   \n",
            "\n",
            "   location_Suburb  price_per_sqft  total_rooms  \n",
            "0                0               1          100  \n",
            "1                0               0          100  \n",
            "2                0               0            0  \n",
            "3                0               0          175  \n",
            "4                0               1          100  \n"
          ]
        }
      ],
      "source": [
        "# Display first few rows of the processed data\n",
        "print(df.head())"
      ]
    }
  ],
  "metadata": {
    "colab": {
      "provenance": []
    },
    "kernelspec": {
      "display_name": "Python 3",
      "name": "python3"
    },
    "language_info": {
      "name": "python"
    }
  },
  "nbformat": 4,
  "nbformat_minor": 0
}